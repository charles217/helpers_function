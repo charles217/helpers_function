{
 "cells": [
  {
   "cell_type": "markdown",
   "id": "ae8124dd",
   "metadata": {},
   "source": [
    "# Case Study 1: Computational Methods in Finance"
   ]
  },
  {
   "cell_type": "markdown",
   "id": "d3d9c1ad",
   "metadata": {},
   "source": [
    "## Charles Laferte - cl4249"
   ]
  },
  {
   "cell_type": "code",
   "execution_count": 69,
   "id": "8f7e4ae9",
   "metadata": {},
   "outputs": [],
   "source": [
    "import warnings\n",
    "warnings.filterwarnings(\"ignore\")"
   ]
  },
  {
   "cell_type": "code",
   "execution_count": 1,
   "id": "a41e38b5",
   "metadata": {},
   "outputs": [],
   "source": [
    "import numpy as np\n",
    "import time\n",
    "import matplotlib.pyplot as plt\n",
    "import pandas as pd\n",
    "from scipy import integrate"
   ]
  },
  {
   "cell_type": "markdown",
   "id": "64b37242",
   "metadata": {},
   "source": [
    "Parameters:"
   ]
  },
  {
   "cell_type": "code",
   "execution_count": 2,
   "id": "033b54cb",
   "metadata": {},
   "outputs": [],
   "source": [
    "S0 = 1900 # spot price\n",
    "T = 0.25 # maturity\n",
    "sigma = 0.36 # volatility\n",
    "r = 0.02 # risk-free interest rate \n",
    "q = 0.0187 # continuous dividend rate\n",
    "\n",
    "K = [2000, 2100, 2200] # price of European call option"
   ]
  },
  {
   "cell_type": "code",
   "execution_count": 7,
   "id": "acc280a7",
   "metadata": {},
   "outputs": [
    {
     "name": "stdout",
     "output_type": "stream",
     "text": [
      "[2000, 2100, 2200]\n"
     ]
    }
   ],
   "source": [
    "print(K)"
   ]
  },
  {
   "cell_type": "markdown",
   "id": "59f2c24c",
   "metadata": {},
   "source": [
    "### 1. Fast Fourier transfrom (FFT)"
   ]
  },
  {
   "cell_type": "code",
   "execution_count": 31,
   "id": "72e3a6a5",
   "metadata": {},
   "outputs": [
    {
     "ename": "TypeError",
     "evalue": "can't multiply sequence by non-int of type 'float'",
     "output_type": "error",
     "traceback": [
      "\u001b[0;31m---------------------------------------------------------------------------\u001b[0m",
      "\u001b[0;31mTypeError\u001b[0m                                 Traceback (most recent call last)",
      "Cell \u001b[0;32mIn [31], line 8\u001b[0m\n\u001b[1;32m      5\u001b[0m n \u001b[38;5;241m=\u001b[39m [\u001b[38;5;241m9\u001b[39m, \u001b[38;5;241m11\u001b[39m, \u001b[38;5;241m13\u001b[39m, \u001b[38;5;241m15\u001b[39m]\n\u001b[1;32m      6\u001b[0m N \u001b[38;5;241m=\u001b[39m [\u001b[38;5;241m2\u001b[39m\u001b[38;5;241m*\u001b[39m\u001b[38;5;241m*\u001b[39mi \u001b[38;5;28;01mfor\u001b[39;00m i \u001b[38;5;129;01min\u001b[39;00m n]\n\u001b[0;32m----> 8\u001b[0m lambda_ \u001b[38;5;241m=\u001b[39m \u001b[38;5;241m2\u001b[39m\u001b[38;5;241m*\u001b[39mnp\u001b[38;5;241m.\u001b[39mpi\u001b[38;5;241m/\u001b[39m(\u001b[43mN\u001b[49m\u001b[38;5;241;43m*\u001b[39;49m\u001b[43mneta\u001b[49m)\n\u001b[1;32m     10\u001b[0m beta \u001b[38;5;241m=\u001b[39m np\u001b[38;5;241m.\u001b[39mzeros((\u001b[38;5;28mlen\u001b[39m(N), \u001b[38;5;28mlen\u001b[39m(K)))\n\u001b[1;32m     11\u001b[0m \u001b[38;5;28;01mfor\u001b[39;00m i \u001b[38;5;129;01min\u001b[39;00m \u001b[38;5;28mrange\u001b[39m(\u001b[38;5;28mlen\u001b[39m(N)):\n",
      "\u001b[0;31mTypeError\u001b[0m: can't multiply sequence by non-int of type 'float'"
     ]
    }
   ],
   "source": [
    "eta = 0.25\n",
    "delta_nu = 0.25\n",
    "alpha = [0.4, 1, 1.4, 3]\n",
    "\n",
    "n = [9, 11, 13, 15]\n",
    "N = [2**i for i in n]\n",
    "\n",
    "lambda_ = 2*np.pi/(N*neta)\n",
    "\n",
    "beta = np.zeros((len(N), len(K)))\n",
    "for i in range(len(N)):\n",
    "    for j in range(len(K)):\n",
    "        beta[i,j] = np.log(K[j]) - lambda_*N[i]/2"
   ]
  },
  {
   "cell_type": "code",
   "execution_count": 96,
   "id": "d128bb8b",
   "metadata": {},
   "outputs": [],
   "source": [
    "eta = 0.25\n",
    "delta_nu = 0.25\n",
    "alpha = 1\n",
    "\n",
    "n = 15\n",
    "N = 2**n\n",
    "\n",
    "lambda_ = 2*np.pi/(N*eta)\n",
    "\n",
    "\n",
    "#beta = np.log(S0) - lambda_*N/2\n",
    "beta = np.log(2000)"
   ]
  },
  {
   "cell_type": "code",
   "execution_count": 12,
   "id": "3e497025",
   "metadata": {},
   "outputs": [],
   "source": [
    "def phi(s, sigma, S0, r, q, T): # CF of log of stock price process\n",
    "    \n",
    "    x = -(sigma**2)*(s**2)*T/2\n",
    "    y = (np.log(S0) + (r-q-sigma**2/2)*T)*s\n",
    "    \n",
    "    return(np.exp(complex(x,y)))\n",
    "    \n",
    "\n",
    "#def charasteristic_function(s, sigma, S0, r, q, T):\n",
    "    \n",
    " #   return ( np.exp(-r*T)*phi(s-(alpa+1)j, sigma, S0, r, q, T)/(alpha+sj)/(alpha+sj+1) )\n",
    "    "
   ]
  },
  {
   "cell_type": "code",
   "execution_count": 9,
   "id": "a0c55c11",
   "metadata": {},
   "outputs": [],
   "source": [
    "def w(j, neta):\n",
    "    if j!=1:\n",
    "        return (neta)\n",
    "    else:\n",
    "        return (neta/2)\n",
    "    "
   ]
  },
  {
   "cell_type": "code",
   "execution_count": 134,
   "id": "dbd27566",
   "metadata": {},
   "outputs": [],
   "source": [
    "def call_pricing_FFT(alpha, delta_nu, N, r, q, T, eta, S0): \n",
    "    \n",
    "    # Param\n",
    "    beta = np.log(S0)\n",
    "    lambda_ = 2*np.pi*eta/(N)\n",
    "    #X = [neta*np.exp(-r*T)/(alpha+(((i-1)*neta)j))/(alpha+((i-1)*neta)j+1) for i in range(N)]\n",
    "    X = np.ones(N)\n",
    "    X[0]=X[0]/2 # first line adjustment\n",
    "    \n",
    "    for i in range(len(X)):\n",
    "        nu = (i-1)*eta\n",
    "        #print(-beta*s)\n",
    "        \n",
    "        X[i] = X[i]*eta*np.exp(-r*T)/complex(alpha,nu)/complex(alpha+1,nu)\n",
    "        X[i] = X[i]*np.exp(complex(0,-beta*nu))*phi(nu+complex(0,-alpha-1), sigma, S0, r, q, T)\n",
    "        #print('phi', phi(nu+complex(0,-alpha-1), sigma, S0, r, q, T))\n",
    "    \n",
    "    #print('X')\n",
    "    # Strike km for m = 1, ... ,N\n",
    "    strikes = np.array([beta+(m-1)*lambda_ for m in range(1,N+1)])\n",
    "    #print(strikes)\n",
    "    \n",
    "    # fft(x)\n",
    "    Y  = np.fft.fft(X)\n",
    "    \n",
    "    \n",
    "    # Call prices\n",
    "    C = np.array([np.exp(-alpha*k)/np.pi for k in strikes])*np.real(Y)\n",
    "    #print(C)\n",
    "    return strikes, C"
   ]
  },
  {
   "cell_type": "code",
   "execution_count": 135,
   "id": "129f5f5d",
   "metadata": {
    "scrolled": false
   },
   "outputs": [
    {
     "ename": "TypeError",
     "evalue": "unsupported operand type(s) for /: 'float' and 'list'",
     "output_type": "error",
     "traceback": [
      "\u001b[0;31m---------------------------------------------------------------------------\u001b[0m",
      "\u001b[0;31mTypeError\u001b[0m                                 Traceback (most recent call last)",
      "Cell \u001b[0;32mIn [135], line 2\u001b[0m\n\u001b[1;32m      1\u001b[0m start_time \u001b[38;5;241m=\u001b[39m time\u001b[38;5;241m.\u001b[39mtime()\n\u001b[0;32m----> 2\u001b[0m strikes, C \u001b[38;5;241m=\u001b[39m \u001b[43mcall_pricing_FFT\u001b[49m\u001b[43m(\u001b[49m\u001b[43malpha\u001b[49m\u001b[43m,\u001b[49m\u001b[43m \u001b[49m\u001b[43mdelta_nu\u001b[49m\u001b[43m,\u001b[49m\u001b[43m \u001b[49m\u001b[43mN\u001b[49m\u001b[43m,\u001b[49m\u001b[43m \u001b[49m\u001b[43mr\u001b[49m\u001b[43m,\u001b[49m\u001b[43m \u001b[49m\u001b[43mq\u001b[49m\u001b[43m,\u001b[49m\u001b[43m \u001b[49m\u001b[43mT\u001b[49m\u001b[43m,\u001b[49m\u001b[43m \u001b[49m\u001b[43meta\u001b[49m\u001b[43m,\u001b[49m\u001b[43m \u001b[49m\u001b[43mS0\u001b[49m\u001b[43m)\u001b[49m\n\u001b[1;32m      3\u001b[0m \u001b[38;5;28mprint\u001b[39m(\u001b[38;5;124m\"\u001b[39m\u001b[38;5;124mComputation duration: \u001b[39m\u001b[38;5;124m\"\u001b[39m, time\u001b[38;5;241m.\u001b[39mtime()\u001b[38;5;241m-\u001b[39mstart_time)\n\u001b[1;32m      4\u001b[0m \u001b[38;5;28mprint\u001b[39m(\u001b[38;5;241m80\u001b[39m\u001b[38;5;241m*\u001b[39m\u001b[38;5;124m'\u001b[39m\u001b[38;5;124m=\u001b[39m\u001b[38;5;124m'\u001b[39m)\n",
      "Cell \u001b[0;32mIn [134], line 5\u001b[0m, in \u001b[0;36mcall_pricing_FFT\u001b[0;34m(alpha, delta_nu, N, r, q, T, eta, S0)\u001b[0m\n\u001b[1;32m      1\u001b[0m \u001b[38;5;28;01mdef\u001b[39;00m \u001b[38;5;21mcall_pricing_FFT\u001b[39m(alpha, delta_nu, N, r, q, T, eta, S0): \n\u001b[1;32m      2\u001b[0m     \n\u001b[1;32m      3\u001b[0m     \u001b[38;5;66;03m# Param\u001b[39;00m\n\u001b[1;32m      4\u001b[0m     beta \u001b[38;5;241m=\u001b[39m np\u001b[38;5;241m.\u001b[39mlog(S0)\n\u001b[0;32m----> 5\u001b[0m     lambda_ \u001b[38;5;241m=\u001b[39m \u001b[38;5;241;43m2\u001b[39;49m\u001b[38;5;241;43m*\u001b[39;49m\u001b[43mnp\u001b[49m\u001b[38;5;241;43m.\u001b[39;49m\u001b[43mpi\u001b[49m\u001b[38;5;241;43m*\u001b[39;49m\u001b[43meta\u001b[49m\u001b[38;5;241;43m/\u001b[39;49m\u001b[43m(\u001b[49m\u001b[43mN\u001b[49m\u001b[43m)\u001b[49m\n\u001b[1;32m      6\u001b[0m     \u001b[38;5;66;03m#X = [neta*np.exp(-r*T)/(alpha+(((i-1)*neta)j))/(alpha+((i-1)*neta)j+1) for i in range(N)]\u001b[39;00m\n\u001b[1;32m      7\u001b[0m     X \u001b[38;5;241m=\u001b[39m np\u001b[38;5;241m.\u001b[39mones(N)\n",
      "\u001b[0;31mTypeError\u001b[0m: unsupported operand type(s) for /: 'float' and 'list'"
     ]
    }
   ],
   "source": [
    "start_time = time.time()\n",
    "strikes, C = call_pricing_FFT(alpha, delta_nu, N, r, q, T, eta, S0)\n",
    "print(\"Computation duration: \", time.time()-start_time)\n",
    "print(80*'=')\n",
    "plt.plot(strikes, C)\n",
    "plt.title('Call option price depending on the strike (log scale)')\n",
    "plt.show()\n"
   ]
  },
  {
   "cell_type": "code",
   "execution_count": 100,
   "id": "9472c7b5",
   "metadata": {},
   "outputs": [
    {
     "data": {
      "text/plain": [
       "array([ 7.60090246,  7.60166945,  7.60243644, ..., 32.73134272,\n",
       "       32.73210971, 32.7328767 ])"
      ]
     },
     "execution_count": 100,
     "metadata": {},
     "output_type": "execute_result"
    }
   ],
   "source": [
    "strikes"
   ]
  },
  {
   "cell_type": "code",
   "execution_count": 101,
   "id": "159ae456",
   "metadata": {},
   "outputs": [],
   "source": [
    "def find_price(lk, strikes, C):\n",
    "    s = np.abs(strikes-lk)\n",
    "    i  = np.argmin(s)\n",
    "    return strikes[i], C[i]"
   ]
  },
  {
   "cell_type": "code",
   "execution_count": 102,
   "id": "9604e489",
   "metadata": {},
   "outputs": [
    {
     "data": {
      "text/plain": [
       "array([1.66755118e+02, 1.66627924e+02, 1.66502139e+02, ...,\n",
       "       2.03274564e-09, 2.03114713e-09, 2.02956587e-09])"
      ]
     },
     "execution_count": 102,
     "metadata": {},
     "output_type": "execute_result"
    }
   ],
   "source": [
    "C"
   ]
  },
  {
   "cell_type": "code",
   "execution_count": 103,
   "id": "6ebd5ab2",
   "metadata": {},
   "outputs": [
    {
     "name": "stderr",
     "output_type": "stream",
     "text": [
      "/var/folders/pr/693wddvj41v3lzy50wnq69fc0000gn/T/ipykernel_57712/2155016552.py:11: ComplexWarning: Casting complex values to real discards the imaginary part\n",
      "  X[i] = X[i]*eta*np.exp(-r*T)/complex(alpha,nu)/complex(alpha+1,nu)\n",
      "/var/folders/pr/693wddvj41v3lzy50wnq69fc0000gn/T/ipykernel_57712/2155016552.py:12: ComplexWarning: Casting complex values to real discards the imaginary part\n",
      "  X[i] = X[i]*np.exp(complex(0,-beta*nu))*phi(nu+complex(0,-alpha-1), sigma, S0, r, q, T)\n"
     ]
    },
    {
     "name": "stdout",
     "output_type": "stream",
     "text": [
      "X\n",
      "[ 1.66755118e+02  1.69286515e+02  1.76785384e+02  1.88292017e+02\n",
      "  2.02455340e+02  2.17804341e+02  2.32995470e+02  2.46976969e+02\n",
      "  2.59051239e+02  2.68852348e+02  2.76274390e+02  2.81386233e+02\n",
      "  2.84356619e+02  2.85399791e+02  2.84741594e+02  2.82601212e+02\n",
      "  2.79182844e+02  2.74672851e+02  2.69239542e+02  2.63034049e+02\n",
      "  2.56191572e+02  2.48832695e+02  2.41064656e+02  2.32982538e+02\n",
      "  2.24670378e+02  2.16202194e+02  2.07642924e+02  1.99049306e+02\n",
      "  1.90470670e+02  1.81949675e+02  1.73522980e+02  1.65221861e+02\n",
      "  1.57072766e+02  1.49097834e+02  1.41315354e+02  1.33740190e+02\n",
      "  1.26384167e+02  1.19256417e+02  1.12363697e+02  1.05710669e+02\n",
      "  9.93001642e+01  9.31334095e+01  8.72102398e+01  8.15292846e+01\n",
      "  7.60881371e+01  7.08835054e+01  6.59113475e+01  6.11669924e+01\n",
      "  5.66452475e+01  5.23404946e+01  4.82467746e+01  4.43578630e+01\n",
      "  4.06673360e+01  3.71686290e+01  3.38550880e+01  3.07200143e+01\n",
      "  2.77567035e+01  2.49584792e+01  2.23187221e+01  1.98308948e+01\n",
      "  1.74885632e+01  1.52854141e+01  1.32152700e+01  1.12721012e+01\n",
      "  9.45003589e+00  7.74336752e+00  6.14656090e+00  4.65425639e+00\n",
      "  3.26127276e+00  1.96260878e+00  7.53443713e-01 -3.70863092e-01\n",
      " -1.41477344e+00 -2.38257225e+00 -3.27837004e+00 -4.10610601e+00\n",
      " -4.86955146e+00 -5.57231360e+00 -6.21783963e+00 -6.80942102e+00\n",
      " -7.35019802e+00 -7.84316423e+00 -8.29117135e+00 -8.69693385e+00\n",
      " -9.06303381e+00 -9.39192569e+00 -9.68594104e+00 -9.94729324e+00\n",
      " -1.01780822e+01 -1.03802987e+01 -1.05558293e+01 -1.07064603e+01\n",
      " -1.08338824e+01 -1.09396945e+01 -1.10254082e+01 -1.10924513e+01\n",
      " -1.11421721e+01 -1.11758426e+01 -1.11946625e+01 -1.11997625e+01\n",
      " -1.11922075e+01 -1.11730000e+01 -1.11430831e+01 -1.11033435e+01\n",
      " -1.10546143e+01 -1.09976777e+01 -1.09332678e+01 -1.08620729e+01\n",
      " -1.07847378e+01 -1.07018665e+01 -1.06140241e+01 -1.05217389e+01\n",
      " -1.04255044e+01 -1.03257812e+01 -1.02229991e+01 -1.01175584e+01\n",
      " -1.00098317e+01 -9.90016553e+00 -9.78888185e+00 -9.67627941e+00\n",
      " -9.56263508e+00 -9.44820519e+00 -9.33322669e+00 -9.21791833e+00\n",
      " -9.10248174e+00 -8.98710249e+00 -8.87195102e+00 -8.75718364e+00\n",
      " -8.64294335e+00 -8.52936070e+00 -8.41655457e+00 -8.30463294e+00\n",
      " -8.19369355e+00 -8.08382461e+00 -7.97510541e+00 -7.86760689e+00\n",
      " -7.76139225e+00 -7.65651745e+00 -7.55303170e+00 -7.45097795e+00\n",
      " -7.35039332e+00 -7.25130953e+00 -7.15375328e+00 -7.05774661e+00\n",
      " -6.96330728e+00 -6.87044905e+00 -6.77918205e+00 -6.68951300e+00\n",
      " -6.60144551e+00 -6.51498037e+00 -6.43011570e+00 -6.34684728e+00\n",
      " -6.26516865e+00 -6.18507140e+00 -6.10654529e+00 -6.02957844e+00\n",
      " -5.95415751e+00 -5.88026780e+00 -5.80789346e+00 -5.73701753e+00\n",
      " -5.66762215e+00 -5.59968860e+00 -5.53319745e+00 -5.46812864e+00\n",
      " -5.40446158e+00 -5.34217520e+00 -5.28124808e+00 -5.22165848e+00\n",
      " -5.16338441e+00 -5.10640372e+00 -5.05069412e+00 -4.99623325e+00\n",
      " -4.94299874e+00 -4.89096823e+00 -4.84011939e+00 -4.79043004e+00\n",
      " -4.74187807e+00 -4.69444157e+00 -4.64809880e+00 -4.60282822e+00\n",
      " -4.55860854e+00 -4.51541869e+00 -4.47323791e+00 -4.43204570e+00\n",
      " -4.39182185e+00 -4.35254649e+00 -4.31420005e+00 -4.27676329e+00\n",
      " -4.24021732e+00 -4.20454359e+00 -4.16972389e+00 -4.13574039e+00\n",
      " -4.10257559e+00 -4.07021237e+00 -4.03863397e+00 -4.00782398e+00\n",
      " -3.97776636e+00 -3.94844545e+00 -3.91984592e+00 -3.89195282e+00\n",
      " -3.86475157e+00 -3.83822791e+00 -3.81236797e+00 -3.78715821e+00\n",
      " -3.76258544e+00 -3.73863681e+00 -3.71529981e+00 -3.69256227e+00\n",
      " -3.67041234e+00 -3.64883851e+00 -3.62782958e+00 -3.60737467e+00\n",
      " -3.58746320e+00 -3.56808491e+00 -3.54922984e+00 -3.53088832e+00\n",
      " -3.51305098e+00 -3.49570873e+00 -3.47885277e+00 -3.46247456e+00\n",
      " -3.44656584e+00 -3.43111863e+00 -3.41612519e+00 -3.40157806e+00\n",
      " -3.38747001e+00 -3.37379408e+00 -3.36054352e+00 -3.34771187e+00\n",
      " -3.33529286e+00 -3.32328047e+00 -3.31166890e+00 -3.30045257e+00\n",
      " -3.28962614e+00 -3.27918446e+00 -3.26912260e+00 -3.25943584e+00\n",
      " -3.25011965e+00 -3.24116973e+00 -3.23258194e+00 -3.22435237e+00\n",
      " -3.21647727e+00 -3.20895310e+00 -3.20177651e+00 -3.19494431e+00\n",
      " -3.18845350e+00 -3.18230128e+00 -3.17648499e+00 -3.17100218e+00\n",
      " -3.16585054e+00 -3.16102796e+00 -3.15653247e+00 -3.15236229e+00\n",
      " -3.14851580e+00 -3.14499155e+00 -3.14178823e+00 -3.13890471e+00\n",
      " -3.13634003e+00 -3.13409338e+00 -3.13216411e+00 -3.13055173e+00\n",
      " -3.12925590e+00 -3.12827646e+00 -3.12761340e+00 -3.12726685e+00\n",
      " -3.12723712e+00 -3.12752468e+00 -3.12813015e+00 -3.12905430e+00\n",
      " -3.13029809e+00 -3.13186260e+00 -3.13374910e+00 -3.13595903e+00\n",
      " -3.13849395e+00 -3.14135564e+00 -3.14454601e+00 -3.14806714e+00\n",
      " -3.15192128e+00 -3.15611086e+00 -3.16063847e+00 -3.16550688e+00\n",
      " -3.17071903e+00 -3.17627804e+00 -3.18218720e+00 -3.18845000e+00\n",
      " -3.19507010e+00 -3.20205133e+00 -3.20939774e+00 -3.21711355e+00\n",
      " -3.22520317e+00 -3.23367122e+00 -3.24252250e+00 -3.25176203e+00\n",
      " -3.26139500e+00 -3.27142684e+00 -3.28186318e+00 -3.29270985e+00\n",
      " -3.30397290e+00 -3.31565860e+00 -3.32777343e+00 -3.34032410e+00\n",
      " -3.35331754e+00 -3.36676093e+00 -3.38066164e+00 -3.39502731e+00\n",
      " -3.40986579e+00 -3.42518519e+00 -3.44099384e+00 -3.45730034e+00\n",
      " -3.47411349e+00 -3.49144239e+00 -3.50929635e+00 -3.52768495e+00\n",
      " -3.54661802e+00 -3.56610562e+00 -3.58615809e+00 -3.60678602e+00\n",
      " -3.62800024e+00 -3.64981185e+00 -3.67223218e+00 -3.69527283e+00\n",
      " -3.71894565e+00 -3.74326272e+00 -3.76823638e+00 -3.79387921e+00\n",
      " -3.82020402e+00 -3.84722384e+00 -3.87495195e+00 -3.90340184e+00\n",
      " -3.93258718e+00 -3.96252189e+00 -3.99322004e+00 -4.02469591e+00\n",
      " -4.05696392e+00 -4.09003867e+00 -4.12393488e+00 -4.15866738e+00\n",
      " -4.19425114e+00 -4.23070117e+00 -4.26803257e+00 -4.30626044e+00\n",
      " -4.34539991e+00 -4.38546609e+00 -4.42647402e+00 -4.46843866e+00\n",
      " -4.51137484e+00 -4.55529721e+00 -4.60022023e+00 -4.64615809e+00\n",
      " -4.69312466e+00 -4.74113345e+00 -4.79019756e+00 -4.84032958e+00\n",
      " -4.89154155e+00 -4.94384488e+00 -4.99725027e+00 -5.05176763e+00\n",
      " -5.10740597e+00 -5.16417333e+00 -5.22207668e+00 -5.28112175e+00\n",
      " -5.34131301e+00 -5.40265346e+00 -5.46514454e+00 -5.52878595e+00\n",
      " -5.59357556e+00 -5.65950917e+00 -5.72658042e+00 -5.79478051e+00\n",
      " -5.86409812e+00 -5.93451909e+00 -6.00602627e+00 -6.07859928e+00\n",
      " -6.15221423e+00 -6.22684348e+00 -6.30245537e+00 -6.37901391e+00\n",
      " -6.45647845e+00 -6.53480339e+00 -6.61393780e+00 -6.69382505e+00\n",
      " -6.77440244e+00 -6.85560075e+00 -6.93734384e+00 -7.01954816e+00\n",
      " -7.10212226e+00 -7.18496630e+00 -7.26797149e+00 -7.35101949e+00\n",
      " -7.43398186e+00 -7.51671938e+00 -7.59908139e+00 -7.68090509e+00\n",
      " -7.76201479e+00 -7.84222112e+00 -7.92132023e+00 -7.99909290e+00\n",
      " -8.07530362e+00 -8.14969970e+00 -8.22201019e+00 -8.29194488e+00\n",
      " -8.35919317e+00 -8.42342294e+00 -8.48427933e+00 -8.54138344e+00\n",
      " -8.59433108e+00 -8.64269132e+00 -8.68600507e+00 -8.72378356e+00\n",
      " -8.75550676e+00 -8.78062176e+00 -8.79854104e+00 -8.80864066e+00\n",
      " -8.81025845e+00 -8.80269206e+00 -8.78519696e+00 -8.75698436e+00\n",
      " -8.71721906e+00 -8.66501722e+00 -8.59944406e+00 -8.51951150e+00\n",
      " -8.42417569e+00 -8.31233450e+00 -8.18282491e+00 -8.03442039e+00\n",
      " -7.86582815e+00 -7.67568642e+00 -7.46256152e+00 -7.22494511e+00\n",
      " -6.96125119e+00 -6.66981321e+00 -6.34888114e+00 -5.99661844e+00\n",
      " -5.61109919e+00 -5.19030519e+00 -4.73212300e+00 -4.23434128e+00\n",
      " -3.69464801e+00 -3.11062793e+00 -2.47976018e+00 -1.79941605e+00\n",
      " -1.06685700e+00 -2.79232990e-01  5.66418887e-01  1.47317538e+00\n",
      "  2.44422757e+00  3.48288086e+00  4.59255435e+00  5.77677947e+00\n",
      "  7.03919790e+00  8.38355846e+00  9.81371312e+00  1.13336117e+01\n",
      "  1.29472952e+01  1.46588881e+01  1.64725883e+01  1.83926557e+01\n",
      "  2.04233984e+01  2.25691569e+01  2.48342855e+01  2.72231305e+01\n",
      "  2.97400057e+01  3.23891641e+01  3.51747655e+01  3.81008398e+01\n",
      "  4.11712455e+01  4.43896227e+01  4.77593402e+01  5.12834359e+01\n",
      "  5.49645504e+01  5.88048520e+01  6.28059531e+01  6.69688179e+01\n",
      "  7.12936579e+01  7.57798174e+01  8.04256449e+01  8.52283522e+01\n",
      "  9.01838567e+01  9.52866086e+01  1.00529399e+02  1.05903148e+02\n",
      "  1.11396675e+02  1.16996440e+02  1.22686262e+02  1.28447017e+02\n",
      "  1.34256292e+02  1.40088023e+02  1.45912089e+02  1.51693872e+02\n",
      "  1.57393777e+02  1.62966716e+02  1.68361537e+02  1.73520418e+02\n",
      "  1.78378202e+02  1.82861684e+02  1.86888849e+02  1.90368059e+02\n",
      "  1.93197220e+02  1.95263004e+02  1.96440332e+02  1.96592614e+02\n",
      "  1.95573807e+02  1.93234200e+02  1.89432975e+02  1.84061342e+02\n",
      "  1.77079475e+02  1.68567097e+02  1.58780670e+02  1.48200778e+02\n",
      "  1.37545691e+02  1.27727221e+02  1.19737920e+02  1.14483136e+02]\n",
      "================================================================================\n",
      "N =  512\n",
      "Computation duration:  0.03604412078857422\n",
      "================================================================================\n",
      "X\n",
      "[166.75511801 166.79520079 167.16934146 ...  35.05825471  34.85787061\n",
      "  34.72654469]\n",
      "================================================================================\n",
      "N =  2048\n",
      "Computation duration:  0.060517072677612305\n",
      "================================================================================\n"
     ]
    },
    {
     "name": "stdout",
     "output_type": "stream",
     "text": [
      "X\n",
      "[166.75511801 166.63777012 166.54148788 ...   0.31229999   0.31196231\n",
      "   0.31166421]\n",
      "================================================================================\n",
      "N =  8192\n",
      "Computation duration:  0.18020105361938477\n",
      "================================================================================\n",
      "X\n",
      "[1.66755118e+02 1.66627924e+02 1.66502139e+02 ... 2.03274564e-09\n",
      " 2.03114713e-09 2.02956587e-09]\n",
      "================================================================================\n",
      "N =  32768\n",
      "Computation duration:  0.6067309379577637\n",
      "================================================================================\n"
     ]
    },
    {
     "data": {
      "image/png": "[encoded data removed]",
      "text/plain": [
       "<Figure size 640x480 with 1 Axes>"
      ]
     },
     "metadata": {},
     "output_type": "display_data"
    }
   ],
   "source": [
    "list_n = [9, 11, 13, 15]\n",
    "l_N = []\n",
    "durations =[]\n",
    "for n in list_n:\n",
    "    N = 2**n\n",
    "    l_N.append(N)\n",
    "    start_time = time.time()\n",
    "    strikes, C = call_pricing_FFT(alpha, delta_nu, N, lambda_, r, q, T, beta, neta, S0)\n",
    "    print(80*'=')\n",
    "    print('N = ', N)\n",
    "    elapsed = time.time()-start_time\n",
    "    print(\"Computation duration: \", elapsed)\n",
    "    print(80*'=')\n",
    "    durations.append(elapsed)\n",
    "    \n",
    "plt.plot(l_N, durations)\n",
    "plt.title('Duration of the computations according to N')\n",
    "plt.show()"
   ]
  },
  {
   "cell_type": "code",
   "execution_count": 104,
   "id": "f523254f",
   "metadata": {},
   "outputs": [],
   "source": [
    "list_K = np.array([2000, 2100, 2200])\n",
    "df_result_FFT = pd.DataFrame({'Strike K': list_K , 'log_K':np.log(list_K)})"
   ]
  },
  {
   "cell_type": "code",
   "execution_count": 105,
   "id": "92b3d5fe",
   "metadata": {},
   "outputs": [],
   "source": [
    "temp_k_l = []\n",
    "temp_C_l = []\n",
    "for k in np.log(list_K):\n",
    "    k_temp, C_temp = find_price(k, strikes, C)\n",
    "    temp_k_l.append(k_temp)\n",
    "    temp_C_l.append(C_temp)\n",
    "    \n",
    "df_result_FFT['log_k in computation'] = temp_k_l\n",
    "df_result_FFT['Call option price'] = temp_C_l"
   ]
  },
  {
   "cell_type": "code",
   "execution_count": 106,
   "id": "838d3ac5",
   "metadata": {},
   "outputs": [
    {
     "data": {
      "text/html": [
       "<div>\n",
       "<style scoped>\n",
       "    .dataframe tbody tr th:only-of-type {\n",
       "        vertical-align: middle;\n",
       "    }\n",
       "\n",
       "    .dataframe tbody tr th {\n",
       "        vertical-align: top;\n",
       "    }\n",
       "\n",
       "    .dataframe thead th {\n",
       "        text-align: right;\n",
       "    }\n",
       "</style>\n",
       "<table border=\"1\" class=\"dataframe\">\n",
       "  <thead>\n",
       "    <tr style=\"text-align: right;\">\n",
       "      <th></th>\n",
       "      <th>Strike K</th>\n",
       "      <th>log_K</th>\n",
       "      <th>log_k in computation</th>\n",
       "      <th>Call option price</th>\n",
       "    </tr>\n",
       "  </thead>\n",
       "  <tbody>\n",
       "    <tr>\n",
       "      <th>0</th>\n",
       "      <td>2000</td>\n",
       "      <td>7.600902</td>\n",
       "      <td>7.600902</td>\n",
       "      <td>166.755118</td>\n",
       "    </tr>\n",
       "    <tr>\n",
       "      <th>1</th>\n",
       "      <td>2100</td>\n",
       "      <td>7.649693</td>\n",
       "      <td>7.649990</td>\n",
       "      <td>161.301009</td>\n",
       "    </tr>\n",
       "    <tr>\n",
       "      <th>2</th>\n",
       "      <td>2200</td>\n",
       "      <td>7.696213</td>\n",
       "      <td>7.696009</td>\n",
       "      <td>160.440663</td>\n",
       "    </tr>\n",
       "  </tbody>\n",
       "</table>\n",
       "</div>"
      ],
      "text/plain": [
       "   Strike K     log_K  log_k in computation  Call option price\n",
       "0      2000  7.600902              7.600902         166.755118\n",
       "1      2100  7.649693              7.649990         161.301009\n",
       "2      2200  7.696213              7.696009         160.440663"
      ]
     },
     "execution_count": 106,
     "metadata": {},
     "output_type": "execute_result"
    }
   ],
   "source": [
    "df_result_FFT"
   ]
  },
  {
   "cell_type": "code",
   "execution_count": 78,
   "id": "6832c3c0",
   "metadata": {},
   "outputs": [],
   "source": [
    "## TEST 2"
   ]
  },
  {
   "cell_type": "markdown",
   "id": "37736e23",
   "metadata": {},
   "source": [
    "Premiums for various values of alpha, N and eta"
   ]
  },
  {
   "cell_type": "code",
   "execution_count": 136,
   "id": "927cb259",
   "metadata": {},
   "outputs": [],
   "source": [
    "alpha = [0.4, 1, 1.4, 3]\n",
    "K = 2000\n",
    "n = [9, 11, 13, 15]\n",
    "N = [2**i for i in n]\n",
    "df_values = pd.DataFrame({'Alpha':alpha})\n"
   ]
  },
  {
   "cell_type": "code",
   "execution_count": 137,
   "id": "52e29f36",
   "metadata": {
    "scrolled": true
   },
   "outputs": [
    {
     "name": "stdout",
     "output_type": "stream",
     "text": [
      "n 9\n",
      "n 11\n",
      "n 13\n"
     ]
    },
    {
     "name": "stderr",
     "output_type": "stream",
     "text": [
      "/var/folders/pr/693wddvj41v3lzy50wnq69fc0000gn/T/ipykernel_57712/2413557035.py:14: ComplexWarning: Casting complex values to real discards the imaginary part\n",
      "  X[i] = X[i]*eta*np.exp(-r*T)/complex(alpha,nu)/complex(alpha+1,nu)\n",
      "/var/folders/pr/693wddvj41v3lzy50wnq69fc0000gn/T/ipykernel_57712/2413557035.py:15: ComplexWarning: Casting complex values to real discards the imaginary part\n",
      "  X[i] = X[i]*np.exp(complex(0,-beta*nu))*phi(nu+complex(0,-alpha-1), sigma, S0, r, q, T)\n",
      "/var/folders/pr/693wddvj41v3lzy50wnq69fc0000gn/T/ipykernel_57712/2413557035.py:14: ComplexWarning: Casting complex values to real discards the imaginary part\n",
      "  X[i] = X[i]*eta*np.exp(-r*T)/complex(alpha,nu)/complex(alpha+1,nu)\n",
      "/var/folders/pr/693wddvj41v3lzy50wnq69fc0000gn/T/ipykernel_57712/2413557035.py:15: ComplexWarning: Casting complex values to real discards the imaginary part\n",
      "  X[i] = X[i]*np.exp(complex(0,-beta*nu))*phi(nu+complex(0,-alpha-1), sigma, S0, r, q, T)\n",
      "/var/folders/pr/693wddvj41v3lzy50wnq69fc0000gn/T/ipykernel_57712/2413557035.py:14: ComplexWarning: Casting complex values to real discards the imaginary part\n",
      "  X[i] = X[i]*eta*np.exp(-r*T)/complex(alpha,nu)/complex(alpha+1,nu)\n",
      "/var/folders/pr/693wddvj41v3lzy50wnq69fc0000gn/T/ipykernel_57712/2413557035.py:15: ComplexWarning: Casting complex values to real discards the imaginary part\n",
      "  X[i] = X[i]*np.exp(complex(0,-beta*nu))*phi(nu+complex(0,-alpha-1), sigma, S0, r, q, T)\n"
     ]
    },
    {
     "name": "stdout",
     "output_type": "stream",
     "text": [
      "n 15\n"
     ]
    },
    {
     "name": "stderr",
     "output_type": "stream",
     "text": [
      "/var/folders/pr/693wddvj41v3lzy50wnq69fc0000gn/T/ipykernel_57712/2413557035.py:14: ComplexWarning: Casting complex values to real discards the imaginary part\n",
      "  X[i] = X[i]*eta*np.exp(-r*T)/complex(alpha,nu)/complex(alpha+1,nu)\n",
      "/var/folders/pr/693wddvj41v3lzy50wnq69fc0000gn/T/ipykernel_57712/2413557035.py:15: ComplexWarning: Casting complex values to real discards the imaginary part\n",
      "  X[i] = X[i]*np.exp(complex(0,-beta*nu))*phi(nu+complex(0,-alpha-1), sigma, S0, r, q, T)\n"
     ]
    }
   ],
   "source": [
    "for n_ in n: \n",
    "    print('n',n_)\n",
    "    l=[]\n",
    "    for a in alpha:\n",
    "        strikes_values, C_values =  call_pricing_FFT(a, delta_nu, 2**n_, r, q, T, eta, S0)\n",
    "        \n",
    "        #print(np.log(K))\n",
    "        #print(strikes_values)\n",
    "        k_temp, C_temp = find_price(np.log(K), strikes_values, C_values)\n",
    "        l.append(C_temp)\n",
    "    \n",
    "    df_values['N=2**'+str(n_)]=l\n",
    "        \n",
    "\n"
   ]
  },
  {
   "cell_type": "code",
   "execution_count": 138,
   "id": "77a722bd",
   "metadata": {},
   "outputs": [
    {
     "data": {
      "text/html": [
       "<div>\n",
       "<style scoped>\n",
       "    .dataframe tbody tr th:only-of-type {\n",
       "        vertical-align: middle;\n",
       "    }\n",
       "\n",
       "    .dataframe tbody tr th {\n",
       "        vertical-align: top;\n",
       "    }\n",
       "\n",
       "    .dataframe thead th {\n",
       "        text-align: right;\n",
       "    }\n",
       "</style>\n",
       "<table border=\"1\" class=\"dataframe\">\n",
       "  <thead>\n",
       "    <tr style=\"text-align: right;\">\n",
       "      <th></th>\n",
       "      <th>Alpha</th>\n",
       "      <th>N=2**9</th>\n",
       "      <th>N=2**11</th>\n",
       "      <th>N=2**13</th>\n",
       "      <th>N=2**15</th>\n",
       "    </tr>\n",
       "  </thead>\n",
       "  <tbody>\n",
       "    <tr>\n",
       "      <th>0</th>\n",
       "      <td>0.4</td>\n",
       "      <td>589.711824</td>\n",
       "      <td>588.672834</td>\n",
       "      <td>588.672834</td>\n",
       "      <td>588.536070</td>\n",
       "    </tr>\n",
       "    <tr>\n",
       "      <th>1</th>\n",
       "      <td>1.0</td>\n",
       "      <td>277.692845</td>\n",
       "      <td>279.070744</td>\n",
       "      <td>279.070744</td>\n",
       "      <td>279.238816</td>\n",
       "    </tr>\n",
       "    <tr>\n",
       "      <th>2</th>\n",
       "      <td>1.4</td>\n",
       "      <td>185.514430</td>\n",
       "      <td>187.380877</td>\n",
       "      <td>187.380877</td>\n",
       "      <td>187.611968</td>\n",
       "    </tr>\n",
       "    <tr>\n",
       "      <th>3</th>\n",
       "      <td>3.0</td>\n",
       "      <td>48.284823</td>\n",
       "      <td>49.796134</td>\n",
       "      <td>49.796134</td>\n",
       "      <td>49.986876</td>\n",
       "    </tr>\n",
       "  </tbody>\n",
       "</table>\n",
       "</div>"
      ],
      "text/plain": [
       "   Alpha      N=2**9     N=2**11     N=2**13     N=2**15\n",
       "0    0.4  589.711824  588.672834  588.672834  588.536070\n",
       "1    1.0  277.692845  279.070744  279.070744  279.238816\n",
       "2    1.4  185.514430  187.380877  187.380877  187.611968\n",
       "3    3.0   48.284823   49.796134   49.796134   49.986876"
      ]
     },
     "execution_count": 138,
     "metadata": {},
     "output_type": "execute_result"
    }
   ],
   "source": [
    "df_values"
   ]
  },
  {
   "cell_type": "markdown",
   "id": "3a8dfc28",
   "metadata": {},
   "source": [
    "### 2. Fractional fast Fourier transform (FrFFT)"
   ]
  },
  {
   "cell_type": "code",
   "execution_count": null,
   "id": "7111db2d",
   "metadata": {},
   "outputs": [],
   "source": []
  },
  {
   "cell_type": "code",
   "execution_count": null,
   "id": "9588e75e",
   "metadata": {},
   "outputs": [],
   "source": []
  },
  {
   "cell_type": "markdown",
   "id": "ac450f2c",
   "metadata": {},
   "source": [
    "### 3. Fourier-cosine (COS) "
   ]
  },
  {
   "cell_type": "markdown",
   "id": "ab416728",
   "metadata": {},
   "source": [
    "(c) Fourier-cosine (COS) method: consider values [−1,1], [−4,4], [−8,8], [−12,12] for the interval [a,b] and find the\n",
    "sensitivity of your results to the choice of [a,b]"
   ]
  },
  {
   "cell_type": "markdown",
   "id": "e94dec97",
   "metadata": {},
   "source": [
    "First method"
   ]
  },
  {
   "cell_type": "code",
   "execution_count": 79,
   "id": "e497ad6b",
   "metadata": {},
   "outputs": [],
   "source": [
    "def value_T(y, T, K):\n",
    "    return (max(K*(np.exp(y)-1),0)) # a checker la formule\n",
    "\n",
    "def f(y,S0, sigma, T, r, q, K):# lognormal distribution\n",
    "    y_ = K*np.exp(y)\n",
    "    #return (np.exp(-0.5*((np.log(y_/S0)-(r-q-sigma**2/2)*T)/(sigma*np.sqrt(T)))**2)/(sigma*y_*np.sqrt(2*np.pi*T)))\n",
    "    return (np.exp(-0.5*((np.log(y_/K)-(r-q-sigma**2/2)*T)/(sigma*np.sqrt(T)))**2)/(sigma*y_*np.sqrt(2*np.pi*T)))\n",
    "\n",
    "def integrand(y,S0, sigma, T, r, q):\n",
    "    return (value_T(y, T, K)*f(y,S0, sigma, T, r, q))\n",
    "\n",
    "def COS(a,b, S0, sigma, T, r, q, K):\n",
    "    # Parameters\n",
    "    C = 1\n",
    "    x= np.arange(a,b, 0.01)\n",
    "    y =[]\n",
    "    y2 = []\n",
    "    x2=[]\n",
    "    y3=[]\n",
    "    for x_ in x:\n",
    "        x2.append(K*np.exp(x_))\n",
    "        y.append(f(x_,S0, sigma, T, r, q, K))\n",
    "        #print(f(x_,S0, sigma, T, r, q))\n",
    "        y2.append(value_T(x_, T, K))\n",
    "        y3.append(value_T(x_, T, K)*f(x_,S0, sigma, T, r, q, K))\n",
    "    plt.plot(x2,y)\n",
    "    plt.show()\n",
    "    plt.plot(x2,y2)\n",
    "    plt.show()\n",
    "    plt.plot(x2,y3)\n",
    "    plt.show()\n",
    "    print(K*np.exp(a))\n",
    "    print(K*np.exp(b))\n",
    "    \n",
    "    v, v_error = integrate.quad(lambda y: value_T(y, T, K)*f(y,S0, sigma, T, r, q, K) , a, b)\n",
    "    v = v*C\n",
    "    return v\n",
    "    \n",
    "    \n",
    "    \n",
    "    "
   ]
  },
  {
   "cell_type": "code",
   "execution_count": null,
   "id": "59995d37",
   "metadata": {},
   "outputs": [],
   "source": []
  },
  {
   "cell_type": "code",
   "execution_count": 53,
   "id": "cb623282",
   "metadata": {},
   "outputs": [],
   "source": [
    "S0 = 1900 # spot price\n",
    "T = 0.25 # maturity\n",
    "sigma = 0.36 # volatility\n",
    "r = 0.02 # risk-free interest rate \n",
    "q = 0.0187 # continuous dividend rate\n",
    "\n",
    "K = 2000\n",
    "\n",
    "a,b = -1,1"
   ]
  },
  {
   "cell_type": "code",
   "execution_count": 80,
   "id": "10a506b3",
   "metadata": {},
   "outputs": [
    {
     "data": {
      "image/png": "[encoded data removed]",
      "text/plain": [
       "<Figure size 640x480 with 1 Axes>"
      ]
     },
     "metadata": {},
     "output_type": "display_data"
    },
    {
     "data": {
      "image/png": "[encoded data removed]",
      "text/plain": [
       "<Figure size 640x480 with 1 Axes>"
      ]
     },
     "metadata": {},
     "output_type": "display_data"
    },
    {
     "data": {
      "image/png": "[encoded data removed]",
      "text/plain": [
       "<Figure size 640x480 with 1 Axes>"
      ]
     },
     "metadata": {},
     "output_type": "display_data"
    },
    {
     "name": "stdout",
     "output_type": "stream",
     "text": [
      "735.7588823428847\n",
      "5436.563656918091\n"
     ]
    }
   ],
   "source": [
    "v_ = COS(a,b, S0, sigma, T, r, q, K)"
   ]
  },
  {
   "cell_type": "code",
   "execution_count": 81,
   "id": "5e570026",
   "metadata": {},
   "outputs": [
    {
     "data": {
      "text/plain": [
       "0.05773486845373722"
      ]
     },
     "execution_count": 81,
     "metadata": {},
     "output_type": "execute_result"
    }
   ],
   "source": [
    "v_"
   ]
  },
  {
   "cell_type": "code",
   "execution_count": 198,
   "id": "d8ddc9c9",
   "metadata": {
    "scrolled": false
   },
   "outputs": [
    {
     "data": {
      "image/png": "[encoded data removed]",
      "text/plain": [
       "<Figure size 640x480 with 1 Axes>"
      ]
     },
     "metadata": {},
     "output_type": "display_data"
    },
    {
     "data": {
      "image/png": "[encoded data removed]",
      "text/plain": [
       "<Figure size 640x480 with 1 Axes>"
      ]
     },
     "metadata": {},
     "output_type": "display_data"
    },
    {
     "data": {
      "image/png": "[encoded data removed]",
      "text/plain": [
       "<Figure size 640x480 with 1 Axes>"
      ]
     },
     "metadata": {},
     "output_type": "display_data"
    }
   ],
   "source": [
    "x= np.arange(-1,1, 0.01)\n",
    "y =[]\n",
    "y2 = []\n",
    "x2=[]\n",
    "y3=[]\n",
    "for x_ in x:\n",
    "    x2.append(K*np.exp(x_))\n",
    "    y.append(f(x_,S0, sigma, T, r, q, K))\n",
    "    #print(f(x_,S0, sigma, T, r, q))\n",
    "    y2.append(value_T(x_, T, K))\n",
    "    y3.append(value_T(x_, T, K)*f(x_,S0, sigma, T, r, q, K))\n",
    "plt.plot(x2,y)\n",
    "plt.show()\n",
    "plt.plot(x2,y2)\n",
    "plt.show()\n",
    "plt.plot(x2,y3)\n",
    "plt.show()"
   ]
  },
  {
   "cell_type": "code",
   "execution_count": 217,
   "id": "983d12ba",
   "metadata": {},
   "outputs": [],
   "source": [
    "# second method"
   ]
  },
  {
   "cell_type": "code",
   "execution_count": 58,
   "id": "ada3b75f",
   "metadata": {},
   "outputs": [],
   "source": [
    "def phi_hat(nu, a, b,S0, sigma, T, r, q, K):\n",
    "    value, erro = integrate.quad(lambda x: np.exp(complex(0,nu*x))* f(x,S0, sigma, T, r, q, K) , a, b)\n",
    "    return value\n",
    "\n",
    "def phi(nu, a, b,S0, sigma, T, r, q, K):\n",
    "    return (np.exp(complex(-sigma**2*nu**2*T/2,(np.log(S0)+(r-q-sigma**2/2)*T)*nu)))\n",
    "\n",
    "def Vk (k, a, b):\n",
    "    value, error = integrate.quad(lambda y: max(K*(np.exp(y)-1),0)*np.cos(k*np.pi*(y-a)/(b-a)), a, b)\n",
    "    value = 2*value/(b-a)\n",
    "    return value\n",
    "    \n",
    "def Ak (k, a, b, S0, sigma, T, r, q, K):\n",
    "    #f(y,S0, sigma, T, r, q, K)\n",
    "    nu = k*np.pi/(b-a)\n",
    "    ak = 2/(b-a)*np.real(phi(nu, a, b,S0, sigma, T, r, q, K)*np.exp(complex(0,-k*a*np.pi/(b-a))))\n",
    "    #value, error = integrate.quad(lambda x: np.cos(k*(x-a)/(b-a))* f(x,S0, sigma, T, r, q, K) , a, b)\n",
    "    #METTre phi \n",
    "    #ak = 2/(b-a)*value\n",
    "    return ak"
   ]
  },
  {
   "cell_type": "code",
   "execution_count": 76,
   "id": "49760edd",
   "metadata": {},
   "outputs": [],
   "source": [
    "def COS2(a, b, S0, sigma, T, r, q, K, n):\n",
    "    C = 1\n",
    "    v = 0\n",
    "    N = 2**n\n",
    "    V = []\n",
    "    A = []\n",
    "    for k in range(N):\n",
    "    #print(k)\n",
    "        #print(Vk(k, a, b))\n",
    "        #print(Ak (k, a, b, S0, sigma, T, r, q, K))\n",
    "        \n",
    "        if k !=0 :\n",
    "            v+= Vk(k, a, b) * Ak (k, a, b, S0, sigma, T, r, q, K)\n",
    "        else: \n",
    "            v+= Vk(k, a, b) * Ak (k, a, b, S0, sigma, T, r, q, K)/2\n",
    "        A.append(Ak (k, a, b, S0, sigma, T, r, q, K))\n",
    "        V.append(Vk(k, a, b))\n",
    "        \n",
    "    v = v * C*(b-a)/2\n",
    "    print(v)\n",
    "    return v, V, A\n",
    "    "
   ]
  },
  {
   "cell_type": "code",
   "execution_count": 78,
   "id": "64e44e1d",
   "metadata": {
    "scrolled": true
   },
   "outputs": [
    {
     "name": "stdout",
     "output_type": "stream",
     "text": [
      "0.573391030698932\n",
      "1240.6446675516183\n",
      "3793384.0228683497\n",
      "3661466.313946788\n"
     ]
    }
   ],
   "source": [
    "v, V, A = COS2(-1, 1, S0, sigma, T, r, q, K,4)\n",
    "v, V, A = COS2(-4, 4, S0, sigma, T, r, q, K,6)\n",
    "v, V, A = COS2(-8, 8, S0, sigma, T, r, q, K, 6)\n",
    "v, V, A = COS2(-12, 12, S0, sigma, T, r, q, K, 6)"
   ]
  },
  {
   "cell_type": "code",
   "execution_count": 209,
   "id": "5ffd15bf",
   "metadata": {},
   "outputs": [],
   "source": [
    "def phi(S0,r,q,sigma,T,u):\n",
    "    phi = np.exp(1j*(np.log(S0) + (r-q-0.5*sigma**2)*T)*u-0.5*sigma**2*u**2*T)\n",
    "    return phi\n",
    "'''\n",
    "def phi_hat(S0,r,q,sigma,T,u, a,b):\n",
    "    def integ(x):\n",
    "        inte = np.exp(1j*u*x-0.5*((x-np.log(S0)-(r-q-sigma**2/2)*T)/(sigma*np.sqrt(T)))**2)/(sigma*K*np.exp(x)*np.sqrt(2*np.pi*T)) \n",
    "        return (inte)\n",
    "    phi = integrate.quad(integ, a,b)[0]\n",
    "    return phi\n",
    "'''\n",
    "def phi_hat(S0,r,q,sigma,T,u, a,b):\n",
    "    def integ(x):\n",
    "        inte = np.exp(1j*u*x-0.5*((x-np.log(S0)-(r-q-sigma**2/2)*T)/(sigma*np.sqrt(T)))**2)/(sigma*np.sqrt(2*np.pi*T)) \n",
    "        return (inte)\n",
    "    #print('integrate')\n",
    "    #print(integrate.quad(integ, a,b))\n",
    "    phi_real = integrate.quad(integ, a,b)[0]\n",
    "    phi_imag = integrate.quad(lambda x: scipy.imag(integ(x)), a,b)[0]\n",
    "    #print(phi)\n",
    "    #\n",
    "    phi = phi_real + 1j*phi_imag\n",
    "    return phi\n",
    "\n",
    "\n",
    "def fourier_cos(a, b, S0, sigma, T, r, q, K, n):\n",
    "    \n",
    "    N = 2**n\n",
    "    A,V = np.zeros(N), np.zeros(N)\n",
    "    \n",
    "    for k in range(N):\n",
    "        V[k] = 2*integrate.quad(lambda y: max(K*(np.exp(y)-1),0)*np.cos(k*np.pi*(y-a)/(b-a)), a, b)[0]/(b-a)\n",
    "        A[k] = 2*np.real(phi(S0/K,r,q,sigma,T,(k*np.pi/(b-a)))*np.exp(-1j*k*a*np.pi/(b-a)))/(b-a)\n",
    "        #print(phi(S0/K,r,q,sigma,T,(k*np.pi/(b-a))))\n",
    "        #print(A[k])\n",
    "    V[0] = V[0]/2\n",
    "    result = (b-a)*sum(A*V)/2\n",
    "    \n",
    "    print(result)\n",
    "    \n",
    "    return(result)\n",
    "    \n",
    "def fourier_cos_hat(a, b, S0, sigma, T, r, q, K, n):\n",
    "    \n",
    "    N = 2**n\n",
    "    A,V = np.zeros(N), np.zeros(N)\n",
    "    \n",
    "    for k in range(N):\n",
    "        V[k] = 2*integrate.quad(lambda y: max(K*(np.exp(y)-1),0)*np.cos(k*np.pi*(y-a)/(b-a)), a, b)[0]/(b-a)\n",
    "        \n",
    "        A[k] = 2*np.real(phi_hat(S0/K,r,q,sigma,T,(k*np.pi/(b-a)),a,b)*np.exp(-1j*k*a*np.pi/(b-a)))/(b-a) \n",
    "        #print(phi_hat(S0/K,r,q,sigma,T,(k*np.pi/(b-a)),a,b))\n",
    "        #print(A[k])\n",
    "    V[0] = V[0]/2\n",
    "    result = (b-a)*sum(A*V)/2\n",
    "    \n",
    "    print(result)\n",
    "    \n",
    "    return(result)\n",
    "    "
   ]
  },
  {
   "cell_type": "code",
   "execution_count": 211,
   "id": "59bb029a",
   "metadata": {
    "scrolled": true
   },
   "outputs": [
    {
     "name": "stdout",
     "output_type": "stream",
     "text": [
      "95.72411798010114\n",
      "95.72493783441779\n",
      "95.37945752594112\n",
      "-22739.513671903747\n"
     ]
    }
   ],
   "source": [
    "various_ab = [[-1,1], [-4,4], [-8,8], [-12,12]]\n",
    "\n",
    "n=6\n",
    "\n",
    "for ab in various_ab:\n",
    "    a = ab[0]\n",
    "    b = ab[1]\n",
    "    \n",
    "    fourier_cos(a, b, S0, sigma, T, r, q, K, n)"
   ]
  },
  {
   "cell_type": "code",
   "execution_count": 212,
   "id": "190c4bb1",
   "metadata": {
    "scrolled": true
   },
   "outputs": [
    {
     "name": "stdout",
     "output_type": "stream",
     "text": [
      "95.72411296998942\n",
      "95.72493783441126\n",
      "95.37945752597017\n",
      "-22739.513671910296\n"
     ]
    }
   ],
   "source": [
    "various_ab = [[-1,1], [-4,4], [-8,8], [-12,12]]\n",
    "\n",
    "n=6\n",
    "for ab in various_ab:\n",
    "    a = ab[0]\n",
    "    b = ab[1]\n",
    "    \n",
    "    fourier_cos_hat(a, b, S0, sigma, T, r, q, K, n)"
   ]
  },
  {
   "cell_type": "code",
   "execution_count": null,
   "id": "22a5790f",
   "metadata": {},
   "outputs": [],
   "source": []
  }
 ],
 "metadata": {
  "kernelspec": {
   "display_name": "Python 3.10.6 64-bit ('columbia': conda)",
   "language": "python",
   "name": "python310664bitcolumbiacondaf66f5be86efb4898a17bb27976858aa5"
  },
  "language_info": {
   "codemirror_mode": {
    "name": "ipython",
    "version": 3
   },
   "file_extension": ".py",
   "mimetype": "text/x-python",
   "name": "python",
   "nbconvert_exporter": "python",
   "pygments_lexer": "ipython3",
   "version": "3.10.6"
  }
 },
 "nbformat": 4,
 "nbformat_minor": 5
}
