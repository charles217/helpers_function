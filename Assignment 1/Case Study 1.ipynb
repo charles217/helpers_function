{
 "cells": [
  {
   "cell_type": "markdown",
   "id": "56fbf6fd",
   "metadata": {},
   "source": [
    "## Case Study 1"
   ]
  },
  {
   "cell_type": "code",
   "execution_count": 3,
   "id": "c7b1a319",
   "metadata": {},
   "outputs": [],
   "source": [
    "import warnings\n",
    "warnings.filterwarnings(\"ignore\")\n",
    "\n",
    "import numpy as np\n",
    "import cmath\n",
    "import math\n",
    "import time\n",
    "import pandas\n",
    "import scipy.integrate as integrate\n",
    "import cvxpy as cvx\n",
    "\n"
   ]
  },
  {
   "cell_type": "code",
   "execution_count": 4,
   "id": "b5c5fc16",
   "metadata": {},
   "outputs": [],
   "source": [
    "def Characteristic(S,r,q,sigma,t,u):\n",
    "    phi = np.exp(1j*(np.log(S) + (r-q-0.5*sigma**2)*t)*u-0.5*sigma**2*u**2*t)\n",
    "    return phi"
   ]
  },
  {
   "cell_type": "code",
   "execution_count": 11,
   "id": "24246393",
   "metadata": {},
   "outputs": [],
   "source": [
    "def Option_Premium_FFT(S,r,q,sigma,T,K,n,alpha,eta):\n",
    "    N = 2**n\n",
    "    lbda = 2*math.pi/(N*eta)\n",
    "    Beta_0 = np.log(K)-0.5*N*lbda \n",
    "    x = np.zeros(N)\n",
    "    nu = np.zeros(N)\n",
    "    for i in range(N):\n",
    "        nu[i] = i*eta\n",
    "    df = np.exp(-r*T)\n",
    "    \n",
    "\n",
    "    for i in range(N):\n",
    "        if i == 0:\n",
    "            PsiJ = Characteristic(S,r,q,sigma,T,nu[i]-(alpha+1)*1j)\n",
    "            weightJ = 2*(alpha+1j*nu[i])*(alpha+1j*nu[i]+1)\n",
    "            x[i] = eta*df*np.exp(-1j*Beta_0*nu[i])*PsiJ/weightJ\n",
    "        elif i != 0:\n",
    "            PsiJ = Characteristic(S,r,q,sigma,T,nu[i]-(alpha+1)*1j)\n",
    "            weightJ = (alpha+1j*nu[i])*(alpha+1j*nu[i]+1)\n",
    "            x[i] = eta*df*np.exp(-1j*Beta_0*nu[i])*PsiJ/weightJ\n",
    "        #print(Characteristic(S,r,q,sigma,T,nu[i]-(alpha+1)*1j))\n",
    "    #print('x', x)\n",
    "    y = np.fft.fft(x)\n",
    "    #print('y', y)\n",
    "    k = np.zeros(N)\n",
    "    C_T = np.zeros(N)\n",
    "    for i in range(N):\n",
    "        k[i] = Beta_0 + i*lbda\n",
    "        mult = np.exp(-alpha*k[i])/math.pi\n",
    "        C_T[i] = mult*np.real(y[i])\n",
    "    \n",
    "    data = pandas.DataFrame({\"Strike\": np.exp(k),\"Option Premium\":C_T})\n",
    "    print(\"Option via FFT: For Strike Price %s and the given parameters, we get that the Option Premium is: \" %K)\n",
    "    print(str(round(data.iloc[int(0.5*N)][\"Option Premium\"],4)))\n",
    "    "
   ]
  },
  {
   "cell_type": "code",
   "execution_count": 12,
   "id": "9e4401f3",
   "metadata": {},
   "outputs": [
    {
     "name": "stdout",
     "output_type": "stream",
     "text": [
      "Option via FFT: For Strike Price 2000 and the given parameters, we get that the Option Premium is: \n",
      "95.3281\n",
      "Option via FFT: For Strike Price 2000 and the given parameters, we get that the Option Premium is: \n",
      "95.2467\n",
      "Option via FFT: For Strike Price 2000 and the given parameters, we get that the Option Premium is: \n",
      "95.2467\n",
      "Option via FFT: For Strike Price 2000 and the given parameters, we get that the Option Premium is: \n",
      "95.2467\n"
     ]
    }
   ],
   "source": [
    "#Option_Premium_FFT(S,r,q,sigma,T,K,n,alpha,eta)\n",
    "#For K = 2000\n",
    "Option_Premium_FFT(1900,0.02,0.0187,0.36,0.25,2000,9,0.4,0.25)\n",
    "Option_Premium_FFT(1900,0.02,0.0187,0.36,0.25,2000,11,1,0.25)\n",
    "Option_Premium_FFT(1900,0.02,0.0187,0.36,0.25,2000,13,1.4,0.25)\n",
    "Option_Premium_FFT(1900,0.02,0.0187,0.36,0.25,2000,11,3,0.25)"
   ]
  },
  {
   "cell_type": "code",
   "execution_count": 5,
   "id": "0ff85cc6",
   "metadata": {},
   "outputs": [
    {
     "name": "stdout",
     "output_type": "stream",
     "text": [
      "Option via FFT: For Strike Price 2100 and the given parameters, we get that the Option Premium is: \n",
      "64.916\n",
      "Option via FFT: For Strike Price 2100 and the given parameters, we get that the Option Premium is: \n",
      "64.8346\n",
      "Option via FFT: For Strike Price 2100 and the given parameters, we get that the Option Premium is: \n",
      "64.8346\n",
      "Option via FFT: For Strike Price 2100 and the given parameters, we get that the Option Premium is: \n",
      "64.8346\n"
     ]
    }
   ],
   "source": [
    "#For K = 2100\n",
    "Option_Premium_FFT(1900,0.02,0.0187,0.36,0.25,2100,9,0.4,0.25)\n",
    "Option_Premium_FFT(1900,0.02,0.0187,0.36,0.25,2100,11,1,0.25)\n",
    "Option_Premium_FFT(1900,0.02,0.0187,0.36,0.25,2100,13,1.4,0.25)\n",
    "Option_Premium_FFT(1900,0.02,0.0187,0.36,0.25,2100,11,3,0.25)\n"
   ]
  },
  {
   "cell_type": "code",
   "execution_count": 6,
   "id": "f2301d1a",
   "metadata": {},
   "outputs": [
    {
     "name": "stdout",
     "output_type": "stream",
     "text": [
      "Option via FFT: For Strike Price 2200 and the given parameters, we get that the Option Premium is: \n",
      "43.0286\n",
      "Option via FFT: For Strike Price 2200 and the given parameters, we get that the Option Premium is: \n",
      "42.9472\n",
      "Option via FFT: For Strike Price 2200 and the given parameters, we get that the Option Premium is: \n",
      "42.9472\n",
      "Option via FFT: For Strike Price 2200 and the given parameters, we get that the Option Premium is: \n",
      "42.9472\n"
     ]
    }
   ],
   "source": [
    "#For K = 2200\n",
    "Option_Premium_FFT(1900,0.02,0.0187,0.36,0.25,2200,9,0.4,0.25)\n",
    "Option_Premium_FFT(1900,0.02,0.0187,0.36,0.25,2200,11,1,0.25)\n",
    "Option_Premium_FFT(1900,0.02,0.0187,0.36,0.25,2200,13,1.4,0.25)\n",
    "Option_Premium_FFT(1900,0.02,0.0187,0.36,0.25,2200,11,3,0.25)\n"
   ]
  },
  {
   "cell_type": "code",
   "execution_count": null,
   "id": "90954c0e",
   "metadata": {},
   "outputs": [],
   "source": []
  },
  {
   "cell_type": "markdown",
   "id": "a725b222",
   "metadata": {},
   "source": [
    " Fractional Fast Fourier Transform"
   ]
  },
  {
   "cell_type": "code",
   "execution_count": 37,
   "id": "82b950eb",
   "metadata": {},
   "outputs": [],
   "source": [
    "def Option_Premium_FrFFT(S,r,q,sigma,T,K,n,alpha,eta,lbda):\n",
    "    N = 2**n\n",
    "    gamma = (eta*lbda)/(2*math.pi)\n",
    "    Beta_0 = np.log(K)-0.5*N*lbda \n",
    "    x = np.zeros(N)\n",
    "    nu = np.zeros(N)\n",
    "    for i in range(N):\n",
    "        nu[i] = i*eta\n",
    "    df = np.exp(-r*T)\n",
    "    \n",
    "    \n",
    "    for i in range(N):\n",
    "        if i == 0:\n",
    "            PsiJ = Characteristic(S,r,q,sigma,T,nu[i]-(alpha+1)*1j)\n",
    "            weightJ = 2*(alpha+1j*nu[i])*(alpha+1j*nu[i]+1)\n",
    "            x[i] = eta*df*np.exp(-1j*Beta_0*nu[i])*PsiJ/weightJ\n",
    "        elif i != 0:\n",
    "            PsiJ = Characteristic(S,r,q,sigma,T,nu[i]-(alpha+1)*1j)\n",
    "            weightJ = (alpha+1j*nu[i])*(alpha+1j*nu[i]+1)\n",
    "            x[i] = eta*df*np.exp(-1j*Beta_0*nu[i])*PsiJ/weightJ\n",
    "    \n",
    "    y = np.zeros(2*N, dtype = np.complex)\n",
    "    z = np.zeros(2*N, dtype = np.complex)\n",
    "    for i in range(2*N):\n",
    "        if i < N :\n",
    "            y[i] = np.exp(-1j*math.pi*gamma*(i**2))*x[i]\n",
    "            z[i] = np.exp(gamma*math.pi*1j*(i**2))\n",
    "        elif i >= N:\n",
    "            z[i] = np.exp(gamma*math.pi*1j*((2*N-i-1)**2))\n",
    "    \n",
    "    y_hat = np.fft.fft(y)\n",
    "    #print(y_hat)\n",
    "    z_hat = np.fft.fft(z)\n",
    "    #£print(z_hat)\n",
    "    epsilon_hat = np.fft.ifft(y_hat*z_hat)\n",
    "    \n",
    "    \n",
    "    k = np.zeros(N)\n",
    "    C_T = np.zeros(N)\n",
    "    for i in range(N):\n",
    "        k[i] = Beta_0 + i*lbda\n",
    "        mult = np.exp(-alpha*k[i])/math.pi\n",
    "        C_T[i] = mult*np.real(epsilon_hat[i]*np.exp(-1j*math.pi*gamma*(i**2)))\n",
    "    #print(k)\n",
    "    #print(C_T)\n",
    "    data = pandas.DataFrame({\"Strike\": np.exp(k),\"Option Premium\":C_T})\n",
    "    print(\"Option via FFT: For Strike Price %s and the given parameters, we get that the Option Premium is: \" %K)\n",
    "    print(str(round(data.iloc[int(0.5*N)][\"Option Premium\"],4)))\n"
   ]
  },
  {
   "cell_type": "code",
   "execution_count": 38,
   "id": "d7547fec",
   "metadata": {},
   "outputs": [
    {
     "name": "stdout",
     "output_type": "stream",
     "text": [
      "Option via FFT: For Strike Price 2000 and the given parameters, we get that the Option Premium is: \n",
      "120.773\n",
      "Option via FFT: For Strike Price 2000 and the given parameters, we get that the Option Premium is: \n",
      "47.626\n",
      "Option via FFT: For Strike Price 2000 and the given parameters, we get that the Option Premium is: \n",
      "215.2645\n",
      "Option via FFT: For Strike Price 2000 and the given parameters, we get that the Option Premium is: \n",
      "81.2383\n"
     ]
    }
   ],
   "source": [
    "#Option_Premium_FrFFT(S,r,q,sigma,T,K,n,alpha,eta,lbda)\n",
    "#For K = 2000\n",
    "Option_Premium_FrFFT(1900,0.02,0.0187,0.36,0.25,2000,6,0.4,0.25,0.1)\n",
    "Option_Premium_FrFFT(1900,0.02,0.0187,0.36,0.25,2000,7,1,0.25,0.1)\n",
    "Option_Premium_FrFFT(1900,0.02,0.0187,0.36,0.25,2000,8,1.4,0.25,0.1)\n",
    "Option_Premium_FrFFT(1900,0.02,0.0187,0.36,0.25,2000,9,3,0.25,0.1)"
   ]
  },
  {
   "cell_type": "code",
   "execution_count": 39,
   "id": "21d1c657",
   "metadata": {},
   "outputs": [
    {
     "name": "stdout",
     "output_type": "stream",
     "text": [
      "Option via FFT: For Strike Price 2100 and the given parameters, we get that the Option Premium is: \n",
      "105.7646\n",
      "Option via FFT: For Strike Price 2100 and the given parameters, we get that the Option Premium is: \n",
      "32.4225\n",
      "Option via FFT: For Strike Price 2100 and the given parameters, we get that the Option Premium is: \n",
      "184.1533\n",
      "Option via FFT: For Strike Price 2100 and the given parameters, we get that the Option Premium is: \n",
      "64.8482\n"
     ]
    }
   ],
   "source": [
    "#For K = 2100\n",
    "Option_Premium_FrFFT(1900,0.02,0.0187,0.36,0.25,2100,6,0.4,0.25,0.1)\n",
    "Option_Premium_FrFFT(1900,0.02,0.0187,0.36,0.25,2100,7,1,0.25,0.1)\n",
    "Option_Premium_FrFFT(1900,0.02,0.0187,0.36,0.25,2100,8,1.4,0.25,0.1)\n",
    "Option_Premium_FrFFT(1900,0.02,0.0187,0.36,0.25,2100,9,3,0.25,0.1)"
   ]
  },
  {
   "cell_type": "code",
   "execution_count": 10,
   "id": "1e53345b",
   "metadata": {},
   "outputs": [
    {
     "name": "stdout",
     "output_type": "stream",
     "text": [
      "Option via FFT: For Strike Price 2200 and the given parameters, we get that the Option Premium is: \n",
      "94.8983\n",
      "Option via FFT: For Strike Price 2200 and the given parameters, we get that the Option Premium is: \n",
      "21.4791\n",
      "Option via FFT: For Strike Price 2200 and the given parameters, we get that the Option Premium is: \n",
      "157.5617\n",
      "Option via FFT: For Strike Price 2200 and the given parameters, we get that the Option Premium is: \n",
      "52.7204\n"
     ]
    }
   ],
   "source": [
    "#For K = 2200\n",
    "Option_Premium_FrFFT(1900,0.02,0.0187,0.36,0.25,2200,6,0.4,0.25,0.1)\n",
    "Option_Premium_FrFFT(1900,0.02,0.0187,0.36,0.25,2200,7,1,0.25,0.1)\n",
    "Option_Premium_FrFFT(1900,0.02,0.0187,0.36,0.25,2200,8,1.4,0.25,0.1)\n",
    "Option_Premium_FrFFT(1900,0.02,0.0187,0.36,0.25,2200,9,3,0.25,0.1)"
   ]
  },
  {
   "cell_type": "code",
   "execution_count": 11,
   "id": "ae1eedb6",
   "metadata": {},
   "outputs": [
    {
     "data": {
      "text/plain": [
       "(2.0, 2.220446049250313e-14)"
      ]
     },
     "execution_count": 11,
     "metadata": {},
     "output_type": "execute_result"
    }
   ],
   "source": [
    "result = integrate.quad(lambda x: x, 0, 2)\n",
    "result"
   ]
  },
  {
   "cell_type": "code",
   "execution_count": 12,
   "id": "c0cafa54",
   "metadata": {},
   "outputs": [
    {
     "name": "stdout",
     "output_type": "stream",
     "text": [
      "95.72411845675965\n"
     ]
    }
   ],
   "source": [
    "def Fourier_Cosinee(a,b,S,r,q,sigma,T,K):\n",
    "    def v(S_T,K):\n",
    "        return Max(S_T-K,0)\n",
    "    def exp(S_T,S,r,q,sigma,T):\n",
    "        return np.exp(-0.5*((np.log(S_T)-np.log(S)-(r-q-0.5*sigma**2)*T)/(sigma*math.sqrt(T)))**2)\n",
    "    def denominator(S_T,sigma,T):\n",
    "        return sigma*S_T*math.sqrt(2*T*math.pi)\n",
    "        \n",
    "    a = integrate.quad(lambda S_T: v(S_T,K)*exp(S_T,S,r,q,sigma,T)/denominator(S_T,sigma,T),np.exp(a),np.exp(b))[0]\n",
    "    print(a)\n",
    "\n",
    "Fourier_Cosinee(-12,12,1900,0.02,0.0187,0.36,0.25,2000)\n",
    "    "
   ]
  },
  {
   "cell_type": "code",
   "execution_count": 53,
   "id": "e803ac48",
   "metadata": {},
   "outputs": [
    {
     "name": "stdout",
     "output_type": "stream",
     "text": [
      "95.59470691976297\n"
     ]
    }
   ],
   "source": [
    "def okalm(a,b,S,r,q,sigma,T,K,n):\n",
    "    N = 2**n\n",
    "    A = np.zeros(N)\n",
    "    V = np.zeros(N)\n",
    "    for i in range(N):\n",
    "        A[i] = 2*np.real(Characteristic(S/K,r,q,sigma,T,(i*math.pi/(b-a)))*np.exp(-1j*i*a*math.pi/(b-a)))/(b-a)\n",
    "        V[i] = 2*integrate.quad(lambda y: Max(K*(np.exp(y)-1),0)*np.cos((i*math.pi*(y-a))/(b-a)),a,b)[0]/(b-a)\n",
    "    V[0] = 0.5*V[0]\n",
    "    result = 0.5*(b-a)*sum(A*V)\n",
    "    \n",
    "    print(result)\n",
    "okalm(-1,1,1900,0.02,0.0187,0.36,0.25,2000,3)\n"
   ]
  },
  {
   "cell_type": "code",
   "execution_count": 14,
   "id": "93f11753",
   "metadata": {},
   "outputs": [
    {
     "data": {
      "text/plain": [
       "60142.41076505027"
      ]
     },
     "execution_count": 14,
     "metadata": {},
     "output_type": "execute_result"
    }
   ],
   "source": [
    "result = integrate.quad(lambda x: Max(x-2000,0),np.exp(-8),np.exp(8))\n",
    "result[0]/8"
   ]
  },
  {
   "cell_type": "code",
   "execution_count": 15,
   "id": "cfaf4762",
   "metadata": {
    "scrolled": true
   },
   "outputs": [
    {
     "data": {
      "text/plain": [
       "(0.05532521596620651+0.9576847098795718j)"
      ]
     },
     "execution_count": 15,
     "metadata": {},
     "output_type": "execute_result"
    }
   ],
   "source": [
    "Characteristic(np.log(2100/2000),0.02,0.0187,0.36,0.26,(1*math.pi/2))"
   ]
  }
 ],
 "metadata": {
  "kernelspec": {
   "display_name": "Python 3 (ipykernel)",
   "language": "python",
   "name": "python3"
  },
  "language_info": {
   "codemirror_mode": {
    "name": "ipython",
    "version": 3
   },
   "file_extension": ".py",
   "mimetype": "text/x-python",
   "name": "python",
   "nbconvert_exporter": "python",
   "pygments_lexer": "ipython3",
   "version": "3.10.6"
  }
 },
 "nbformat": 4,
 "nbformat_minor": 5
}
